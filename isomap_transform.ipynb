{
 "cells": [
  {
   "cell_type": "code",
   "execution_count": 1,
   "metadata": {},
   "outputs": [],
   "source": [
    "import pandas as pd\n",
    "\n",
    "df = pd.read_csv('/Users/mdaniyalk/Documents/github/work/datavidia-tetihehe/data/all_data.csv')\n",
    "\n"
   ]
  },
  {
   "cell_type": "code",
   "execution_count": 3,
   "metadata": {},
   "outputs": [],
   "source": [
    "from sklearn.manifold import Isomap\n",
    "from joblib import Memory\n",
    "\n",
    "def isomap_fit(data, comp):\n",
    "  embedding = Isomap(n_components=comp)\n",
    "  embedding.fit(data)\n",
    "  return embedding\n",
    "\n",
    "# loc = '/Users/mdaniyalk/Documents/github/work/datavidia-tetihehe/.cachedir'\n",
    "# memory = Memory(loc)\n",
    "\n",
    "# isomap_fit = memory.cache(isomap_fit)"
   ]
  },
  {
   "cell_type": "code",
   "execution_count": 8,
   "metadata": {},
   "outputs": [],
   "source": [
    "from joblib import Parallel, delayed\n",
    "\n",
    "embed = isomap_fit(df)\n",
    "memory.clear(warn=False)"
   ]
  },
  {
   "cell_type": "code",
   "execution_count": 9,
   "metadata": {},
   "outputs": [],
   "source": [
    "import pickle\n",
    "pickle.dump(embed, open('/Users/mdaniyalk/Documents/github/work/datavidia-tetihehe/isomap_embed.pkl','wb'))"
   ]
  },
  {
   "cell_type": "code",
   "execution_count": 2,
   "metadata": {},
   "outputs": [],
   "source": [
    "tmp = ['temperature_2m (°C)', 'relativehumidity_2m (%)',\n",
    "       'dewpoint_2m (°C)', 'apparent_temperature (°C)',\n",
    "       'pressure_msl (hPa)', 'surface_pressure (hPa)', 'snowfall (cm)',\n",
    "       'cloudcover (%)', 'cloudcover_low (%)', 'cloudcover_mid (%)',\n",
    "       'cloudcover_high (%)', 'shortwave_radiation (W/m²)',\n",
    "       'direct_radiation (W/m²)', 'diffuse_radiation (W/m²)',\n",
    "       'direct_normal_irradiance (W/m²)', 'windspeed_10m (km/h)',\n",
    "       'windspeed_100m (km/h)', 'winddirection_10m (°)',\n",
    "       'winddirection_100m (°)', 'windgusts_10m (km/h)',\n",
    "       'et0_fao_evapotranspiration (mm)', 'vapor_pressure_deficit (kPa)',\n",
    "       'soil_temperature_0_to_7cm (°C)',\n",
    "       'soil_temperature_7_to_28cm (°C)',\n",
    "       'soil_temperature_28_to_100cm (°C)',\n",
    "       'soil_temperature_100_to_255cm (°C)',\n",
    "       'soil_moisture_0_to_7cm (m³/m³)',\n",
    "       'soil_moisture_7_to_28cm (m³/m³)',\n",
    "       'soil_moisture_28_to_100cm (m³/m³)',\n",
    "       'soil_moisture_100_to_255cm (m³/m³)']\n",
    "\n",
    "new_col = [\"{}_{}\".format(col, i) for col in tmp for i in range(0,24,1)]\n",
    "new_col2 = [[\"{}_{}\".format(col, i) for i in range(0,24,1)]for col in tmp ]"
   ]
  },
  {
   "cell_type": "code",
   "execution_count": 5,
   "metadata": {},
   "outputs": [
    {
     "name": "stderr",
     "output_type": "stream",
     "text": [
      "/opt/homebrew/lib/python3.9/site-packages/sklearn/manifold/_isomap.py:328: UserWarning: The number of connected components of the neighbors graph is 3 > 1. Completing the graph to fit Isomap might be slow. Increase the number of neighbors to avoid this issue.\n",
      "  self._fit_transform(X)\n",
      "/opt/homebrew/lib/python3.9/site-packages/scipy/sparse/_index.py:103: SparseEfficiencyWarning: Changing the sparsity structure of a csr_matrix is expensive. lil_matrix is more efficient.\n",
      "  self._set_intXint(row, col, x.flat[0])\n",
      "/opt/homebrew/lib/python3.9/site-packages/scipy/sparse/_index.py:103: SparseEfficiencyWarning: Changing the sparsity structure of a csr_matrix is expensive. lil_matrix is more efficient.\n",
      "  self._set_intXint(row, col, x.flat[0])\n",
      "/opt/homebrew/lib/python3.9/site-packages/scipy/sparse/_index.py:103: SparseEfficiencyWarning: Changing the sparsity structure of a csr_matrix is expensive. lil_matrix is more efficient.\n",
      "  self._set_intXint(row, col, x.flat[0])\n"
     ]
    }
   ],
   "source": [
    "import pickle\n",
    "# embed = []\n",
    "# isomap on each columns category\n",
    "for i in range(len(tmp)):\n",
    "  embed = isomap_fit(df[new_col2[i]], 4)\n",
    "  pickle.dump(embed, open('/Users/mdaniyalk/Documents/github/work/datavidia-tetihehe/isomap_category/isomap_{}.pkl'.format(i),'wb'))\n",
    "#   X_train[new_col2[i]] = embed[i].transform(X_train[new_col2[i]])\n",
    "#   X_test[new_col2[i]] = embed[i].transform(X_test[new_col2[i]])\n",
    "#   X_val[new_col2[i]] = embed[i].transform(X_val[new_col2[i]])"
   ]
  }
 ],
 "metadata": {
  "kernelspec": {
   "display_name": "Python 3",
   "language": "python",
   "name": "python3"
  },
  "language_info": {
   "codemirror_mode": {
    "name": "ipython",
    "version": 3
   },
   "file_extension": ".py",
   "mimetype": "text/x-python",
   "name": "python",
   "nbconvert_exporter": "python",
   "pygments_lexer": "ipython3",
   "version": "3.9.16"
  },
  "orig_nbformat": 4,
  "vscode": {
   "interpreter": {
    "hash": "a665b5d41d17b532ea9890333293a1b812fa0b73c9c25c950b3cedf1bebd0438"
   }
  }
 },
 "nbformat": 4,
 "nbformat_minor": 2
}
